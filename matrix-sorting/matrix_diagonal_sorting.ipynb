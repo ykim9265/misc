{
 "cells": [
  {
   "cell_type": "markdown",
   "metadata": {},
   "source": [
    "# Overview\n",
    "\n",
    "Given an (m,n) matrix `X` of integers, sort it diagonally in ascending order from top-left to bottom-right.\n",
    "\n",
    "See below for an example input/output.\n",
    "\n",
    "## Constraints\n",
    "1.  m = X.length\n",
    "2.  n = X[i].length\n",
    "3. 1 <= m, n <= 100\n",
    "4. 1 <= mat[i][j] <= 100"
   ]
  },
  {
   "cell_type": "markdown",
   "metadata": {},
   "source": [
    "# Comments\n",
    "Looks like \"diagonally sorted\" means the following two conditions have to be met: \n",
    "1. `X[i,j] >= X[i-1,j]` \n",
    "2. `X[i,j] >= X[i,j-1]`"
   ]
  },
  {
   "cell_type": "code",
   "execution_count": 87,
   "metadata": {},
   "outputs": [],
   "source": [
    "# Example input and expected output:\n",
    "x_ex = [\n",
    "    [3,3,1,1],\n",
    "    [2,2,1,2],\n",
    "    [1,1,1,2]\n",
    "]\n",
    "y_ex = [\n",
    "    [1,1,1,1],\n",
    "    [1,2,2,2],\n",
    "    [1,2,3,3]\n",
    "]"
   ]
  },
  {
   "cell_type": "code",
   "execution_count": 88,
   "metadata": {},
   "outputs": [
    {
     "name": "stdout",
     "output_type": "stream",
     "text": [
      "Python version: /home/life/.pyenv/versions/3.7.7/envs/py37/bin\n"
     ]
    }
   ],
   "source": [
    "import os,sys\n",
    "print('Python version:', os.path.dirname(sys.executable))\n",
    "import random\n",
    "import numpy as np\n"
   ]
  },
  {
   "cell_type": "code",
   "execution_count": null,
   "metadata": {},
   "outputs": [],
   "source": []
  },
  {
   "cell_type": "code",
   "execution_count": 89,
   "metadata": {},
   "outputs": [],
   "source": [
    "def get_random_matrix(m,n):\n",
    "    \"\"\"Define the numbers allowed in the input matrix:\n",
    "    \"\"\"\n",
    "    numbers = list(range(1,101))\n",
    "\n",
    "    X = np.zeros((m,n))\n",
    "    for i in range(m):\n",
    "        for j in range(n):\n",
    "            X[i,j] = int(random.choice(numbers))\n",
    "    return X\n",
    "\n",
    "def check_matrix_sorted(X):\n",
    "    \"\"\"Return true, if the matrix is diagonally sorted. Return False, otherwise.\n",
    "    \"\"\" \n",
    "    is_sorted = True\n",
    "    X = np.array(X)\n",
    "    m,n = X.shape\n",
    "    for i in range(m):\n",
    "        for j in range(n):\n",
    "            if i > 0:\n",
    "                if X[i][j] < X[i-1,j]:\n",
    "                    is_sorted = False\n",
    "            if j > 0:\n",
    "                if X[i][j] < X[i,j-1]:\n",
    "                    is_sorted = False\n",
    "    return is_sorted\n",
    "\n",
    "def get_index_pair_sorted_list(X):\n",
    "    \"\"\"\n",
    "    Return a sorted list of (i,j) matrix index pairs so that the matrix is diagonally sorted.\n",
    "    \"\"\"\n",
    "    X = np.array(X)\n",
    "    Y = np.zeros(X.shape)\n",
    "    m,n = X.shape\n",
    "    s = []\n",
    "    for i in range(m):\n",
    "        for j in range(n):\n",
    "            si = (i+j, (i,j))\n",
    "            s.append(si)\n",
    "    s = sorted(s, key = lambda x:x[0], reverse=False)\n",
    "    return s\n",
    "\n",
    "def sort_matrix_diagonal(X):\n",
    "    X = np.array(X)\n",
    "    m,n = X.shape\n",
    "    \n",
    "    X_numbers = list(X.flatten())\n",
    "    X_numbers.sort()  # Sort numbers in the matrix from low to high.\n",
    "    \n",
    "    sort_order = get_index_pair_sorted_list(X)  # Sorted numbers will be placed in a new matrix in this order.\n",
    "    \n",
    "    Y = np.zeros((m,n))\n",
    "    for idx, (_, (i,j)) in enumerate(sort_order):\n",
    "        Y[i,j] = X_numbers[idx]\n",
    "    \n",
    "    return Y\n",
    "        "
   ]
  },
  {
   "cell_type": "code",
   "execution_count": 90,
   "metadata": {},
   "outputs": [
    {
     "data": {
      "text/plain": [
       "[(0, (0, 0)),\n",
       " (1, (0, 1)),\n",
       " (1, (1, 0)),\n",
       " (2, (0, 2)),\n",
       " (2, (1, 1)),\n",
       " (2, (2, 0)),\n",
       " (3, (0, 3)),\n",
       " (3, (1, 2)),\n",
       " (3, (2, 1)),\n",
       " (4, (1, 3)),\n",
       " (4, (2, 2)),\n",
       " (5, (2, 3))]"
      ]
     },
     "execution_count": 90,
     "metadata": {},
     "output_type": "execute_result"
    }
   ],
   "source": [
    "# Demonstrate the use of 'get_index_pair_sorted_list':\n",
    "x_sort_order = get_index_pair_sorted_list(x_ex)\n",
    "x_sort_order"
   ]
  },
  {
   "cell_type": "code",
   "execution_count": 91,
   "metadata": {},
   "outputs": [],
   "source": [
    "assert check_matrix_sorted(x_ex) == False"
   ]
  },
  {
   "cell_type": "code",
   "execution_count": 92,
   "metadata": {},
   "outputs": [],
   "source": [
    "assert check_matrix_sorted(y_ex) == True"
   ]
  },
  {
   "cell_type": "code",
   "execution_count": null,
   "metadata": {},
   "outputs": [],
   "source": []
  },
  {
   "cell_type": "code",
   "execution_count": 93,
   "metadata": {},
   "outputs": [],
   "source": [
    "# Sort the input matrix diagonally:\n",
    "y = sort_matrix_diagonal(x_ex)\n",
    "assert check_matrix_sorted(y) == True"
   ]
  },
  {
   "cell_type": "code",
   "execution_count": 94,
   "metadata": {},
   "outputs": [
    {
     "data": {
      "text/plain": [
       "array([[1., 1., 1., 2.],\n",
       "       [1., 1., 2., 2.],\n",
       "       [1., 2., 3., 3.]])"
      ]
     },
     "execution_count": 94,
     "metadata": {},
     "output_type": "execute_result"
    }
   ],
   "source": [
    "# Compare the sorted matrix that we get (i.e. 'y') from that of the example (i.e. 'y_ex').\n",
    "# It is interesting that the results are slightly different.\n",
    "# For example, the example output has at (0,3), a value of '1', while our output has a value of '2' at the same location.\n",
    "y"
   ]
  },
  {
   "cell_type": "code",
   "execution_count": 95,
   "metadata": {},
   "outputs": [
    {
     "data": {
      "text/plain": [
       "array([[1, 1, 1, 1],\n",
       "       [1, 2, 2, 2],\n",
       "       [1, 2, 3, 3]])"
      ]
     },
     "execution_count": 95,
     "metadata": {},
     "output_type": "execute_result"
    }
   ],
   "source": [
    "# 'y_ex' is the example output:\n",
    "np.array(y_ex)"
   ]
  },
  {
   "cell_type": "code",
   "execution_count": null,
   "metadata": {},
   "outputs": [],
   "source": []
  }
 ],
 "metadata": {
  "kernelspec": {
   "display_name": "Python 3",
   "language": "python",
   "name": "python3"
  },
  "language_info": {
   "codemirror_mode": {
    "name": "ipython",
    "version": 3
   },
   "file_extension": ".py",
   "mimetype": "text/x-python",
   "name": "python",
   "nbconvert_exporter": "python",
   "pygments_lexer": "ipython3",
   "version": "3.7.7"
  }
 },
 "nbformat": 4,
 "nbformat_minor": 4
}
